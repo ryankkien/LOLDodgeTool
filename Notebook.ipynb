{
 "cells": [
  {
   "cell_type": "code",
   "execution_count": 81,
   "metadata": {},
   "outputs": [],
   "source": [
    "from riotwatcher import LolWatcher, ApiError"
   ]
  },
  {
   "cell_type": "code",
   "execution_count": 82,
   "metadata": {},
   "outputs": [
    {
     "name": "stdout",
     "output_type": "stream",
     "text": [
      "{'id': 'pfGfEPk2hhTdAYJsVzNPwRHwsjrVhic7snedrukBetvexyE', 'accountId': 'IJabkrXx8XHbRNVrwvzHldU3AI7chEXSIVmuzGh6z1-ikUA', 'puuid': 'SDgF_qTaEjaa3CXnFkWkvehbW6UXDgvl9eetgo5yvBMW6gb78KpzDgtidNKTVzsxxno47S7HLAS1eg', 'name': 'Wíggles', 'profileIconId': 4409, 'revisionDate': 1673598501719, 'summonerLevel': 369}\n"
     ]
    }
   ],
   "source": [
    "key = \n",
    "lol_watcher = LolWatcher(key)\n",
    "\n",
    "my_region = 'na1'\n",
    "\n",
    "me = lol_watcher.summoner.by_name(my_region, 'Wíggles')\n",
    "print(me)\n"
   ]
  },
  {
   "cell_type": "code",
   "execution_count": 83,
   "metadata": {},
   "outputs": [],
   "source": [
    "versions = lol_watcher.data_dragon.versions_for_region(my_region)\n",
    "champions_version = versions['n']['champion']\n",
    "current_champ_list = lol_watcher.data_dragon.champions(champions_version)"
   ]
  },
  {
   "cell_type": "code",
   "execution_count": 84,
   "metadata": {},
   "outputs": [
    {
     "data": {
      "text/plain": [
       "dict_keys(['Aatrox', 'Ahri', 'Akali', 'Akshan', 'Alistar', 'Amumu', 'Anivia', 'Annie', 'Aphelios', 'Ashe', 'AurelionSol', 'Azir', 'Bard', 'Belveth', 'Blitzcrank', 'Brand', 'Braum', 'Caitlyn', 'Camille', 'Cassiopeia', 'Chogath', 'Corki', 'Darius', 'Diana', 'Draven', 'DrMundo', 'Ekko', 'Elise', 'Evelynn', 'Ezreal', 'Fiddlesticks', 'Fiora', 'Fizz', 'Galio', 'Gangplank', 'Garen', 'Gnar', 'Gragas', 'Graves', 'Gwen', 'Hecarim', 'Heimerdinger', 'Illaoi', 'Irelia', 'Ivern', 'Janna', 'JarvanIV', 'Jax', 'Jayce', 'Jhin', 'Jinx', 'Kaisa', 'Kalista', 'Karma', 'Karthus', 'Kassadin', 'Katarina', 'Kayle', 'Kayn', 'Kennen', 'Khazix', 'Kindred', 'Kled', 'KogMaw', 'KSante', 'Leblanc', 'LeeSin', 'Leona', 'Lillia', 'Lissandra', 'Lucian', 'Lulu', 'Lux', 'Malphite', 'Malzahar', 'Maokai', 'MasterYi', 'MissFortune', 'MonkeyKing', 'Mordekaiser', 'Morgana', 'Nami', 'Nasus', 'Nautilus', 'Neeko', 'Nidalee', 'Nilah', 'Nocturne', 'Nunu', 'Olaf', 'Orianna', 'Ornn', 'Pantheon', 'Poppy', 'Pyke', 'Qiyana', 'Quinn', 'Rakan', 'Rammus', 'RekSai', 'Rell', 'Renata', 'Renekton', 'Rengar', 'Riven', 'Rumble', 'Ryze', 'Samira', 'Sejuani', 'Senna', 'Seraphine', 'Sett', 'Shaco', 'Shen', 'Shyvana', 'Singed', 'Sion', 'Sivir', 'Skarner', 'Sona', 'Soraka', 'Swain', 'Sylas', 'Syndra', 'TahmKench', 'Taliyah', 'Talon', 'Taric', 'Teemo', 'Thresh', 'Tristana', 'Trundle', 'Tryndamere', 'TwistedFate', 'Twitch', 'Udyr', 'Urgot', 'Varus', 'Vayne', 'Veigar', 'Velkoz', 'Vex', 'Vi', 'Viego', 'Viktor', 'Vladimir', 'Volibear', 'Warwick', 'Xayah', 'Xerath', 'XinZhao', 'Yasuo', 'Yone', 'Yorick', 'Yuumi', 'Zac', 'Zed', 'Zeri', 'Ziggs', 'Zilean', 'Zoe', 'Zyra'])"
      ]
     },
     "execution_count": 84,
     "metadata": {},
     "output_type": "execute_result"
    }
   ],
   "source": [
    "current_champ_list['data'].keys()"
   ]
  },
  {
   "cell_type": "code",
   "execution_count": 85,
   "metadata": {},
   "outputs": [],
   "source": [
    "alltiers = [\"IRON\", \"BRONZE\", \"SILVER\", \"GOLD\", \"PLATINUM\", \"DIAMOND\"]\n",
    "alldivisions = [\"IV\", \"III\", \"II\", \"I\"]\n"
   ]
  },
  {
   "cell_type": "code",
   "execution_count": 89,
   "metadata": {},
   "outputs": [],
   "source": [
    "def get_entries(tier, division): #get a bunch of summoner names from a tier and division\n",
    "    return lol_watcher.league.entries(region = my_region, queue = \"RANKED_SOLO_5x5\", tier =  tier, division = division, page =  1)"
   ]
  },
  {
   "cell_type": "code",
   "execution_count": 94,
   "metadata": {},
   "outputs": [],
   "source": [
    "one_division = get_entries(\"IRON\", \"IV\") #practice"
   ]
  },
  {
   "cell_type": "code",
   "execution_count": 95,
   "metadata": {},
   "outputs": [
    {
     "name": "stdout",
     "output_type": "stream",
     "text": [
      "{'leagueId': '4f19087c-e8fe-4ee4-a2db-3757dc37a94d', 'queueType': 'RANKED_SOLO_5x5', 'tier': 'IRON', 'rank': 'IV', 'summonerId': 'A82y1HOWVGyE53h33IOHOq23GJZKtInAW7D5kVqrDe06CDmMRTUMw8vBKQ', 'summonerName': 'ulvmkwz', 'leaguePoints': 46, 'wins': 4, 'losses': 21, 'veteran': False, 'inactive': False, 'freshBlood': True, 'hotStreak': False}\n"
     ]
    }
   ],
   "source": [
    "print(one_division[0]) #get info for one player"
   ]
  },
  {
   "cell_type": "code",
   "execution_count": 102,
   "metadata": {},
   "outputs": [],
   "source": [
    "allplayers = []\n",
    "for tier in alltiers:\n",
    "    for division in alldivisions:\n",
    "        allplayers.append(get_entries(tier, division))"
   ]
  },
  {
   "cell_type": "code",
   "execution_count": 103,
   "metadata": {},
   "outputs": [],
   "source": [
    "#flatten allplayers\n",
    "allplayers = [item for sublist in allplayers for item in sublist]"
   ]
  },
  {
   "cell_type": "code",
   "execution_count": null,
   "metadata": {},
   "outputs": [],
   "source": []
  }
 ],
 "metadata": {
  "kernelspec": {
   "display_name": "base",
   "language": "python",
   "name": "python3"
  },
  "language_info": {
   "codemirror_mode": {
    "name": "ipython",
    "version": 3
   },
   "file_extension": ".py",
   "mimetype": "text/x-python",
   "name": "python",
   "nbconvert_exporter": "python",
   "pygments_lexer": "ipython3",
   "version": "3.10.8"
  },
  "orig_nbformat": 4,
  "vscode": {
   "interpreter": {
    "hash": "417f056fefab257d34e28d2f10a1c4a315c9439c0daca59529e2a08c1c4e1952"
   }
  }
 },
 "nbformat": 4,
 "nbformat_minor": 2
}
