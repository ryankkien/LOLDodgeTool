{
 "cells": [
  {
   "cell_type": "code",
   "execution_count": 10,
   "metadata": {},
   "outputs": [
    {
     "name": "stderr",
     "output_type": "stream",
     "text": [
      "c:\\Users\\Wiggles\\miniconda3\\lib\\site-packages\\tqdm\\auto.py:22: TqdmWarning: IProgress not found. Please update jupyter and ipywidgets. See https://ipywidgets.readthedocs.io/en/stable/user_install.html\n",
      "  from .autonotebook import tqdm as notebook_tqdm\n"
     ]
    }
   ],
   "source": [
    "import pandas as pd\n",
    "import fastai\n",
    "from fastai.tabular.all import *"
   ]
  },
  {
   "cell_type": "code",
   "execution_count": 2,
   "metadata": {},
   "outputs": [],
   "source": [
    "df = pd.read_csv('matchdata.csv')"
   ]
  },
  {
   "cell_type": "code",
   "execution_count": 5,
   "metadata": {},
   "outputs": [
    {
     "data": {
      "text/html": [
       "<div>\n",
       "<style scoped>\n",
       "    .dataframe tbody tr th:only-of-type {\n",
       "        vertical-align: middle;\n",
       "    }\n",
       "\n",
       "    .dataframe tbody tr th {\n",
       "        vertical-align: top;\n",
       "    }\n",
       "\n",
       "    .dataframe thead th {\n",
       "        text-align: right;\n",
       "    }\n",
       "</style>\n",
       "<table border=\"1\" class=\"dataframe\">\n",
       "  <thead>\n",
       "    <tr style=\"text-align: right;\">\n",
       "      <th></th>\n",
       "      <th>Unnamed: 0</th>\n",
       "      <th>BlueTop</th>\n",
       "      <th>BlueJungle</th>\n",
       "      <th>BlueMid</th>\n",
       "      <th>BlueADC</th>\n",
       "      <th>BlueSupport</th>\n",
       "      <th>RedTop</th>\n",
       "      <th>RedJungle</th>\n",
       "      <th>RedMid</th>\n",
       "      <th>RedADC</th>\n",
       "      <th>RedSupport</th>\n",
       "      <th>BlueWin</th>\n",
       "    </tr>\n",
       "  </thead>\n",
       "  <tbody>\n",
       "    <tr>\n",
       "      <th>0</th>\n",
       "      <td>0</td>\n",
       "      <td>DrMundo</td>\n",
       "      <td>Amumu</td>\n",
       "      <td>Akali</td>\n",
       "      <td>MissFortune</td>\n",
       "      <td>Lux</td>\n",
       "      <td>Olaf</td>\n",
       "      <td>Sejuani</td>\n",
       "      <td>Fizz</td>\n",
       "      <td>Caitlyn</td>\n",
       "      <td>Blitzcrank</td>\n",
       "      <td>False</td>\n",
       "    </tr>\n",
       "    <tr>\n",
       "      <th>1</th>\n",
       "      <td>1</td>\n",
       "      <td>DrMundo</td>\n",
       "      <td>XinZhao</td>\n",
       "      <td>Kassadin</td>\n",
       "      <td>Caitlyn</td>\n",
       "      <td>Seraphine</td>\n",
       "      <td>Yorick</td>\n",
       "      <td>Trundle</td>\n",
       "      <td>Sylas</td>\n",
       "      <td>Ezreal</td>\n",
       "      <td>Karma</td>\n",
       "      <td>False</td>\n",
       "    </tr>\n",
       "    <tr>\n",
       "      <th>2</th>\n",
       "      <td>2</td>\n",
       "      <td>DrMundo</td>\n",
       "      <td>Vi</td>\n",
       "      <td>Kassadin</td>\n",
       "      <td>Ashe</td>\n",
       "      <td>Lux</td>\n",
       "      <td>Garen</td>\n",
       "      <td>Warwick</td>\n",
       "      <td>Akshan</td>\n",
       "      <td>Ezreal</td>\n",
       "      <td>TwistedFate</td>\n",
       "      <td>True</td>\n",
       "    </tr>\n",
       "    <tr>\n",
       "      <th>3</th>\n",
       "      <td>3</td>\n",
       "      <td>DrMundo</td>\n",
       "      <td>XinZhao</td>\n",
       "      <td>Zed</td>\n",
       "      <td>Kaisa</td>\n",
       "      <td>Heimerdinger</td>\n",
       "      <td>Sett</td>\n",
       "      <td>Udyr</td>\n",
       "      <td>Akali</td>\n",
       "      <td>Ashe</td>\n",
       "      <td>Brand</td>\n",
       "      <td>False</td>\n",
       "    </tr>\n",
       "    <tr>\n",
       "      <th>4</th>\n",
       "      <td>4</td>\n",
       "      <td>DrMundo</td>\n",
       "      <td>Amumu</td>\n",
       "      <td>Irelia</td>\n",
       "      <td>Ashe</td>\n",
       "      <td>Blitzcrank</td>\n",
       "      <td>KSante</td>\n",
       "      <td>Skarner</td>\n",
       "      <td>Zed</td>\n",
       "      <td>Nilah</td>\n",
       "      <td>Rakan</td>\n",
       "      <td>False</td>\n",
       "    </tr>\n",
       "  </tbody>\n",
       "</table>\n",
       "</div>"
      ],
      "text/plain": [
       "   Unnamed: 0  BlueTop BlueJungle   BlueMid      BlueADC   BlueSupport  \\\n",
       "0           0  DrMundo      Amumu     Akali  MissFortune           Lux   \n",
       "1           1  DrMundo    XinZhao  Kassadin      Caitlyn     Seraphine   \n",
       "2           2  DrMundo         Vi  Kassadin         Ashe           Lux   \n",
       "3           3  DrMundo    XinZhao       Zed        Kaisa  Heimerdinger   \n",
       "4           4  DrMundo      Amumu    Irelia         Ashe    Blitzcrank   \n",
       "\n",
       "   RedTop RedJungle  RedMid   RedADC   RedSupport  BlueWin  \n",
       "0    Olaf   Sejuani    Fizz  Caitlyn   Blitzcrank    False  \n",
       "1  Yorick   Trundle   Sylas   Ezreal        Karma    False  \n",
       "2   Garen   Warwick  Akshan   Ezreal  TwistedFate     True  \n",
       "3    Sett      Udyr   Akali     Ashe        Brand    False  \n",
       "4  KSante   Skarner     Zed    Nilah        Rakan    False  "
      ]
     },
     "execution_count": 5,
     "metadata": {},
     "output_type": "execute_result"
    }
   ],
   "source": [
    "df.head()"
   ]
  },
  {
   "cell_type": "code",
   "execution_count": 8,
   "metadata": {},
   "outputs": [
    {
     "data": {
      "text/html": [
       "<div>\n",
       "<style scoped>\n",
       "    .dataframe tbody tr th:only-of-type {\n",
       "        vertical-align: middle;\n",
       "    }\n",
       "\n",
       "    .dataframe tbody tr th {\n",
       "        vertical-align: top;\n",
       "    }\n",
       "\n",
       "    .dataframe thead th {\n",
       "        text-align: right;\n",
       "    }\n",
       "</style>\n",
       "<table border=\"1\" class=\"dataframe\">\n",
       "  <thead>\n",
       "    <tr style=\"text-align: right;\">\n",
       "      <th></th>\n",
       "      <th>BlueTop</th>\n",
       "      <th>BlueJungle</th>\n",
       "      <th>BlueMid</th>\n",
       "      <th>BlueADC</th>\n",
       "      <th>BlueSupport</th>\n",
       "      <th>RedTop</th>\n",
       "      <th>RedJungle</th>\n",
       "      <th>RedMid</th>\n",
       "      <th>RedADC</th>\n",
       "      <th>RedSupport</th>\n",
       "      <th>BlueWin</th>\n",
       "    </tr>\n",
       "  </thead>\n",
       "  <tbody>\n",
       "    <tr>\n",
       "      <th>0</th>\n",
       "      <td>DrMundo</td>\n",
       "      <td>Amumu</td>\n",
       "      <td>Akali</td>\n",
       "      <td>MissFortune</td>\n",
       "      <td>Lux</td>\n",
       "      <td>Olaf</td>\n",
       "      <td>Sejuani</td>\n",
       "      <td>Fizz</td>\n",
       "      <td>Caitlyn</td>\n",
       "      <td>Blitzcrank</td>\n",
       "      <td>False</td>\n",
       "    </tr>\n",
       "    <tr>\n",
       "      <th>1</th>\n",
       "      <td>DrMundo</td>\n",
       "      <td>XinZhao</td>\n",
       "      <td>Kassadin</td>\n",
       "      <td>Caitlyn</td>\n",
       "      <td>Seraphine</td>\n",
       "      <td>Yorick</td>\n",
       "      <td>Trundle</td>\n",
       "      <td>Sylas</td>\n",
       "      <td>Ezreal</td>\n",
       "      <td>Karma</td>\n",
       "      <td>False</td>\n",
       "    </tr>\n",
       "    <tr>\n",
       "      <th>2</th>\n",
       "      <td>DrMundo</td>\n",
       "      <td>Vi</td>\n",
       "      <td>Kassadin</td>\n",
       "      <td>Ashe</td>\n",
       "      <td>Lux</td>\n",
       "      <td>Garen</td>\n",
       "      <td>Warwick</td>\n",
       "      <td>Akshan</td>\n",
       "      <td>Ezreal</td>\n",
       "      <td>TwistedFate</td>\n",
       "      <td>True</td>\n",
       "    </tr>\n",
       "    <tr>\n",
       "      <th>3</th>\n",
       "      <td>DrMundo</td>\n",
       "      <td>XinZhao</td>\n",
       "      <td>Zed</td>\n",
       "      <td>Kaisa</td>\n",
       "      <td>Heimerdinger</td>\n",
       "      <td>Sett</td>\n",
       "      <td>Udyr</td>\n",
       "      <td>Akali</td>\n",
       "      <td>Ashe</td>\n",
       "      <td>Brand</td>\n",
       "      <td>False</td>\n",
       "    </tr>\n",
       "    <tr>\n",
       "      <th>4</th>\n",
       "      <td>DrMundo</td>\n",
       "      <td>Amumu</td>\n",
       "      <td>Irelia</td>\n",
       "      <td>Ashe</td>\n",
       "      <td>Blitzcrank</td>\n",
       "      <td>KSante</td>\n",
       "      <td>Skarner</td>\n",
       "      <td>Zed</td>\n",
       "      <td>Nilah</td>\n",
       "      <td>Rakan</td>\n",
       "      <td>False</td>\n",
       "    </tr>\n",
       "  </tbody>\n",
       "</table>\n",
       "</div>"
      ],
      "text/plain": [
       "   BlueTop BlueJungle   BlueMid      BlueADC   BlueSupport  RedTop RedJungle  \\\n",
       "0  DrMundo      Amumu     Akali  MissFortune           Lux    Olaf   Sejuani   \n",
       "1  DrMundo    XinZhao  Kassadin      Caitlyn     Seraphine  Yorick   Trundle   \n",
       "2  DrMundo         Vi  Kassadin         Ashe           Lux   Garen   Warwick   \n",
       "3  DrMundo    XinZhao       Zed        Kaisa  Heimerdinger    Sett      Udyr   \n",
       "4  DrMundo      Amumu    Irelia         Ashe    Blitzcrank  KSante   Skarner   \n",
       "\n",
       "   RedMid   RedADC   RedSupport  BlueWin  \n",
       "0    Fizz  Caitlyn   Blitzcrank    False  \n",
       "1   Sylas   Ezreal        Karma    False  \n",
       "2  Akshan   Ezreal  TwistedFate     True  \n",
       "3   Akali     Ashe        Brand    False  \n",
       "4     Zed    Nilah        Rakan    False  "
      ]
     },
     "execution_count": 8,
     "metadata": {},
     "output_type": "execute_result"
    }
   ],
   "source": [
    "#df = df.drop(['Unnamed: 0'], axis=1)\n",
    "df.head()"
   ]
  },
  {
   "cell_type": "code",
   "execution_count": 27,
   "metadata": {},
   "outputs": [
    {
     "data": {
      "text/plain": [
       "BlueWin\n",
       "False    12556\n",
       "True     11941\n",
       "Name: BlueWin, dtype: int64"
      ]
     },
     "execution_count": 27,
     "metadata": {},
     "output_type": "execute_result"
    }
   ],
   "source": [
    "df.groupby('BlueWin')['BlueWin'].count()"
   ]
  },
  {
   "cell_type": "code",
   "execution_count": 47,
   "metadata": {},
   "outputs": [
    {
     "name": "stdout",
     "output_type": "stream",
     "text": [
      "0.487447442543985\n"
     ]
    }
   ],
   "source": [
    "totalBlueWR = 11941 / (12556 + 11941)\n",
    "print(totalBlueWR)"
   ]
  },
  {
   "cell_type": "code",
   "execution_count": 48,
   "metadata": {},
   "outputs": [],
   "source": [
    "dls = TabularDataLoaders.from_csv('matchdata.csv', path='.', y_names=\"BlueWin\", cat_names=['BlueTop', 'BlueJungle', 'BlueMid', 'BlueADC', 'BlueSupport', 'RedTop', 'RedJungle', 'RedMid', 'RedADC', 'RedSupport'], procs =[Categorify])"
   ]
  },
  {
   "cell_type": "code",
   "execution_count": 49,
   "metadata": {},
   "outputs": [],
   "source": [
    "splits = RandomSplitter(valid_pct = .3)(range_of(df))"
   ]
  },
  {
   "cell_type": "code",
   "execution_count": 50,
   "metadata": {},
   "outputs": [],
   "source": [
    "to = TabularPandas(df, procs=[Categorify], cat_names=['BlueTop', 'BlueJungle', 'BlueMid', 'BlueADC', 'BlueSupport', 'RedTop', 'RedJungle', 'RedMid', 'RedADC', 'RedSupport'], y_names=\"BlueWin\", splits=splits)"
   ]
  },
  {
   "cell_type": "code",
   "execution_count": 57,
   "metadata": {},
   "outputs": [],
   "source": [
    "dls = to.dataloaders(bs=64)"
   ]
  },
  {
   "cell_type": "code",
   "execution_count": 58,
   "metadata": {},
   "outputs": [],
   "source": [
    "learn = tabular_learner(dls, metrics=accuracy)"
   ]
  },
  {
   "cell_type": "code",
   "execution_count": 59,
   "metadata": {},
   "outputs": [
    {
     "data": {
      "text/html": [
       "\n",
       "<style>\n",
       "    /* Turns off some styling */\n",
       "    progress {\n",
       "        /* gets rid of default border in Firefox and Opera. */\n",
       "        border: none;\n",
       "        /* Needs to be in here for Safari polyfill so background images work as expected. */\n",
       "        background-size: auto;\n",
       "    }\n",
       "    progress:not([value]), progress:not([value])::-webkit-progress-bar {\n",
       "        background: repeating-linear-gradient(45deg, #7e7e7e, #7e7e7e 10px, #5c5c5c 10px, #5c5c5c 20px);\n",
       "    }\n",
       "    .progress-bar-interrupted, .progress-bar-interrupted::-webkit-progress-bar {\n",
       "        background: #F44336;\n",
       "    }\n",
       "</style>\n"
      ],
      "text/plain": [
       "<IPython.core.display.HTML object>"
      ]
     },
     "metadata": {},
     "output_type": "display_data"
    },
    {
     "data": {
      "text/html": [
       "<table border=\"1\" class=\"dataframe\">\n",
       "  <thead>\n",
       "    <tr style=\"text-align: left;\">\n",
       "      <th>epoch</th>\n",
       "      <th>train_loss</th>\n",
       "      <th>valid_loss</th>\n",
       "      <th>accuracy</th>\n",
       "      <th>time</th>\n",
       "    </tr>\n",
       "  </thead>\n",
       "  <tbody>\n",
       "    <tr>\n",
       "      <td>0</td>\n",
       "      <td>0.696104</td>\n",
       "      <td>0.688388</td>\n",
       "      <td>0.560620</td>\n",
       "      <td>00:02</td>\n",
       "    </tr>\n",
       "    <tr>\n",
       "      <td>1</td>\n",
       "      <td>0.664885</td>\n",
       "      <td>0.683649</td>\n",
       "      <td>0.568513</td>\n",
       "      <td>00:02</td>\n",
       "    </tr>\n",
       "    <tr>\n",
       "      <td>2</td>\n",
       "      <td>0.631634</td>\n",
       "      <td>0.698828</td>\n",
       "      <td>0.577494</td>\n",
       "      <td>00:02</td>\n",
       "    </tr>\n",
       "    <tr>\n",
       "      <td>3</td>\n",
       "      <td>0.541834</td>\n",
       "      <td>0.745795</td>\n",
       "      <td>0.578582</td>\n",
       "      <td>00:02</td>\n",
       "    </tr>\n",
       "    <tr>\n",
       "      <td>4</td>\n",
       "      <td>0.428154</td>\n",
       "      <td>0.834201</td>\n",
       "      <td>0.587563</td>\n",
       "      <td>00:02</td>\n",
       "    </tr>\n",
       "    <tr>\n",
       "      <td>5</td>\n",
       "      <td>0.265665</td>\n",
       "      <td>1.034371</td>\n",
       "      <td>0.577221</td>\n",
       "      <td>00:02</td>\n",
       "    </tr>\n",
       "    <tr>\n",
       "      <td>6</td>\n",
       "      <td>0.140084</td>\n",
       "      <td>1.218599</td>\n",
       "      <td>0.589060</td>\n",
       "      <td>00:02</td>\n",
       "    </tr>\n",
       "    <tr>\n",
       "      <td>7</td>\n",
       "      <td>0.058680</td>\n",
       "      <td>1.378125</td>\n",
       "      <td>0.594367</td>\n",
       "      <td>00:02</td>\n",
       "    </tr>\n",
       "    <tr>\n",
       "      <td>8</td>\n",
       "      <td>0.031952</td>\n",
       "      <td>1.478962</td>\n",
       "      <td>0.590012</td>\n",
       "      <td>00:02</td>\n",
       "    </tr>\n",
       "    <tr>\n",
       "      <td>9</td>\n",
       "      <td>0.019031</td>\n",
       "      <td>1.496248</td>\n",
       "      <td>0.593958</td>\n",
       "      <td>00:02</td>\n",
       "    </tr>\n",
       "  </tbody>\n",
       "</table>"
      ],
      "text/plain": [
       "<IPython.core.display.HTML object>"
      ]
     },
     "metadata": {},
     "output_type": "display_data"
    }
   ],
   "source": [
    "learn.fit_one_cycle(10)"
   ]
  },
  {
   "attachments": {},
   "cell_type": "markdown",
   "metadata": {},
   "source": [
    "So far, I've tried batch sizes ranging from 16 to 128, and epochs from 10 to 100, and larger validation percentages. Regardless, it seems that there's a huge overfitting problem that I feel is due to the fact that league is such a varied game and draft is such a small part of what makes a team win and lose. Even then, there is P(161,10) > 10^21 team compositions that can be drafted against each other and 25,000 samples is only a small snippet of that. To fix the overfitting, I have increased batch size, lowered epochs and lowered validation percent."
   ]
  },
  {
   "cell_type": "code",
   "execution_count": 61,
   "metadata": {},
   "outputs": [
    {
     "data": {
      "text/html": [
       "\n",
       "<style>\n",
       "    /* Turns off some styling */\n",
       "    progress {\n",
       "        /* gets rid of default border in Firefox and Opera. */\n",
       "        border: none;\n",
       "        /* Needs to be in here for Safari polyfill so background images work as expected. */\n",
       "        background-size: auto;\n",
       "    }\n",
       "    progress:not([value]), progress:not([value])::-webkit-progress-bar {\n",
       "        background: repeating-linear-gradient(45deg, #7e7e7e, #7e7e7e 10px, #5c5c5c 10px, #5c5c5c 20px);\n",
       "    }\n",
       "    .progress-bar-interrupted, .progress-bar-interrupted::-webkit-progress-bar {\n",
       "        background: #F44336;\n",
       "    }\n",
       "</style>\n"
      ],
      "text/plain": [
       "<IPython.core.display.HTML object>"
      ]
     },
     "metadata": {},
     "output_type": "display_data"
    },
    {
     "data": {
      "text/html": [],
      "text/plain": [
       "<IPython.core.display.HTML object>"
      ]
     },
     "metadata": {},
     "output_type": "display_data"
    },
    {
     "data": {
      "text/html": [
       "<table border=\"1\" class=\"dataframe\">\n",
       "  <thead>\n",
       "    <tr style=\"text-align: right;\">\n",
       "      <th></th>\n",
       "      <th>BlueTop</th>\n",
       "      <th>BlueJungle</th>\n",
       "      <th>BlueMid</th>\n",
       "      <th>BlueADC</th>\n",
       "      <th>BlueSupport</th>\n",
       "      <th>RedTop</th>\n",
       "      <th>RedJungle</th>\n",
       "      <th>RedMid</th>\n",
       "      <th>RedADC</th>\n",
       "      <th>RedSupport</th>\n",
       "      <th>BlueWin</th>\n",
       "      <th>BlueWin_pred</th>\n",
       "    </tr>\n",
       "  </thead>\n",
       "  <tbody>\n",
       "    <tr>\n",
       "      <th>0</th>\n",
       "      <td>105</td>\n",
       "      <td>77</td>\n",
       "      <td>157</td>\n",
       "      <td>87</td>\n",
       "      <td>120</td>\n",
       "      <td>36</td>\n",
       "      <td>148</td>\n",
       "      <td>73</td>\n",
       "      <td>30</td>\n",
       "      <td>155</td>\n",
       "      <td>1</td>\n",
       "      <td>1</td>\n",
       "    </tr>\n",
       "    <tr>\n",
       "      <th>1</th>\n",
       "      <td>74</td>\n",
       "      <td>77</td>\n",
       "      <td>73</td>\n",
       "      <td>10</td>\n",
       "      <td>68</td>\n",
       "      <td>129</td>\n",
       "      <td>144</td>\n",
       "      <td>122</td>\n",
       "      <td>53</td>\n",
       "      <td>128</td>\n",
       "      <td>1</td>\n",
       "      <td>0</td>\n",
       "    </tr>\n",
       "    <tr>\n",
       "      <th>2</th>\n",
       "      <td>40</td>\n",
       "      <td>29</td>\n",
       "      <td>53</td>\n",
       "      <td>26</td>\n",
       "      <td>120</td>\n",
       "      <td>48</td>\n",
       "      <td>76</td>\n",
       "      <td>142</td>\n",
       "      <td>30</td>\n",
       "      <td>128</td>\n",
       "      <td>1</td>\n",
       "      <td>1</td>\n",
       "    </tr>\n",
       "    <tr>\n",
       "      <th>3</th>\n",
       "      <td>35</td>\n",
       "      <td>41</td>\n",
       "      <td>3</td>\n",
       "      <td>149</td>\n",
       "      <td>98</td>\n",
       "      <td>112</td>\n",
       "      <td>119</td>\n",
       "      <td>150</td>\n",
       "      <td>71</td>\n",
       "      <td>82</td>\n",
       "      <td>1</td>\n",
       "      <td>0</td>\n",
       "    </tr>\n",
       "    <tr>\n",
       "      <th>4</th>\n",
       "      <td>129</td>\n",
       "      <td>117</td>\n",
       "      <td>107</td>\n",
       "      <td>65</td>\n",
       "      <td>155</td>\n",
       "      <td>90</td>\n",
       "      <td>148</td>\n",
       "      <td>91</td>\n",
       "      <td>54</td>\n",
       "      <td>68</td>\n",
       "      <td>0</td>\n",
       "      <td>0</td>\n",
       "    </tr>\n",
       "    <tr>\n",
       "      <th>5</th>\n",
       "      <td>93</td>\n",
       "      <td>76</td>\n",
       "      <td>55</td>\n",
       "      <td>10</td>\n",
       "      <td>135</td>\n",
       "      <td>105</td>\n",
       "      <td>39</td>\n",
       "      <td>34</td>\n",
       "      <td>50</td>\n",
       "      <td>141</td>\n",
       "      <td>1</td>\n",
       "      <td>0</td>\n",
       "    </tr>\n",
       "    <tr>\n",
       "      <th>6</th>\n",
       "      <td>44</td>\n",
       "      <td>132</td>\n",
       "      <td>75</td>\n",
       "      <td>18</td>\n",
       "      <td>160</td>\n",
       "      <td>35</td>\n",
       "      <td>88</td>\n",
       "      <td>12</td>\n",
       "      <td>138</td>\n",
       "      <td>81</td>\n",
       "      <td>0</td>\n",
       "      <td>0</td>\n",
       "    </tr>\n",
       "    <tr>\n",
       "      <th>7</th>\n",
       "      <td>133</td>\n",
       "      <td>144</td>\n",
       "      <td>2</td>\n",
       "      <td>118</td>\n",
       "      <td>121</td>\n",
       "      <td>64</td>\n",
       "      <td>77</td>\n",
       "      <td>146</td>\n",
       "      <td>51</td>\n",
       "      <td>110</td>\n",
       "      <td>1</td>\n",
       "      <td>0</td>\n",
       "    </tr>\n",
       "    <tr>\n",
       "      <th>8</th>\n",
       "      <td>107</td>\n",
       "      <td>13</td>\n",
       "      <td>135</td>\n",
       "      <td>19</td>\n",
       "      <td>159</td>\n",
       "      <td>2</td>\n",
       "      <td>153</td>\n",
       "      <td>34</td>\n",
       "      <td>146</td>\n",
       "      <td>47</td>\n",
       "      <td>0</td>\n",
       "      <td>1</td>\n",
       "    </tr>\n",
       "  </tbody>\n",
       "</table>"
      ],
      "text/plain": [
       "<IPython.core.display.HTML object>"
      ]
     },
     "metadata": {},
     "output_type": "display_data"
    }
   ],
   "source": [
    "learn.show_results()"
   ]
  },
  {
   "attachments": {},
   "cell_type": "markdown",
   "metadata": {},
   "source": [
    "Since it is impossible to predict how a League of Legends game will go based solely off draft alone, I want this tool to be used to know what the chances of winning/losing are."
   ]
  },
  {
   "cell_type": "code",
   "execution_count": null,
   "metadata": {},
   "outputs": [],
   "source": []
  }
 ],
 "metadata": {
  "kernelspec": {
   "display_name": "base",
   "language": "python",
   "name": "python3"
  },
  "language_info": {
   "codemirror_mode": {
    "name": "ipython",
    "version": 3
   },
   "file_extension": ".py",
   "mimetype": "text/x-python",
   "name": "python",
   "nbconvert_exporter": "python",
   "pygments_lexer": "ipython3",
   "version": "3.10.8"
  },
  "orig_nbformat": 4,
  "vscode": {
   "interpreter": {
    "hash": "417f056fefab257d34e28d2f10a1c4a315c9439c0daca59529e2a08c1c4e1952"
   }
  }
 },
 "nbformat": 4,
 "nbformat_minor": 2
}
