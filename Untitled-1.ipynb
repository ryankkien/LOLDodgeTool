{
 "cells": [
  {
   "cell_type": "code",
   "execution_count": 1,
   "metadata": {},
   "outputs": [
    {
     "name": "stdout",
     "output_type": "stream",
     "text": [
      "{'id': 'bhx774BW7lfIbIKU2SqwYz1rmf9wohRmzdyHqxf1YjRVH7w', 'accountId': '3badGV4PqzKtOLQ62y_Z5o_Eq-X23RFCw4AOXSd3irZeTQ', 'puuid': 'DgTqHW1HUKterDHpbBF_yqHLM3-TRATR8jLkHzNKEtzPdPkZi4v2TX3F2_K897gwhDSkHn-FL9FYug', 'name': 'Doublelift', 'profileIconId': 4568, 'revisionDate': 1648775197000, 'summonerLevel': 313}\n",
      "[{'leagueId': 'd609d862-7a3f-3f35-8c18-1fbc8198f70a', 'queueType': 'RANKED_SOLO_5x5', 'tier': 'CHALLENGER', 'rank': 'I', 'summonerId': 'bhx774BW7lfIbIKU2SqwYz1rmf9wohRmzdyHqxf1YjRVH7w', 'summonerName': 'Doublelift', 'leaguePoints': 812, 'wins': 139, 'losses': 128, 'veteran': True, 'inactive': False, 'freshBlood': False, 'hotStreak': False}]\n"
     ]
    }
   ],
   "source": [
    "from riotwatcher import LolWatcher, ApiError\n",
    "import requests\n",
    "import re\n",
    "import pandas as pd\n",
    "\n",
    "lol_watcher = LolWatcher('RGAPI-4a395276-1025-4b03-925c-97d6973fc283')\n",
    "my_region = 'na1'\n",
    "\n",
    "me = lol_watcher.summoner.by_name(my_region, 'DoubleLift')\n",
    "print(me)\n",
    "my_ranked_stats = lol_watcher.league.by_summoner(my_region, me['id'])\n",
    "print(my_ranked_stats)\n",
    "\n",
    "# First we get the latest version of the game from data dragon\n",
    "try:\n",
    "    response = lol_watcher.summoner.by_name(my_region, 'DoubleLift')\n",
    "except ApiError as err:\n",
    "    if err.response.status_code == 429:\n",
    "        print('We should retry in {} seconds.'.format(err.headers['Retry-After']))\n",
    "        print('this retry-after is handled by default by the RiotWatcher library')\n",
    "        print('future requests wait until the retry-after time passes')\n",
    "    elif err.response.status_code == 404:\n",
    "        print('Summoner with that ridiculous name not found.')\n",
    "    else:\n",
    "        raise"
   ]
  },
  {
   "cell_type": "code",
   "execution_count": 2,
   "metadata": {},
   "outputs": [
    {
     "data": {
      "text/plain": [
       "['NA1_4266633295',\n",
       " 'NA1_4266640772',\n",
       " 'NA1_4266277918',\n",
       " 'NA1_4266019145',\n",
       " 'NA1_4266036644',\n",
       " 'NA1_4265679496',\n",
       " 'NA1_4265676806',\n",
       " 'NA1_4265017855',\n",
       " 'NA1_4264750678',\n",
       " 'NA1_4264688761',\n",
       " 'NA1_4264697353',\n",
       " 'NA1_4264724065',\n",
       " 'NA1_4263871989',\n",
       " 'NA1_4262977170',\n",
       " 'NA1_4262982321',\n",
       " 'NA1_4262959483',\n",
       " 'NA1_4262927238',\n",
       " 'NA1_4262905206',\n",
       " 'NA1_4262923194',\n",
       " 'NA1_4262950200',\n",
       " 'NA1_4262868464',\n",
       " 'NA1_4262597197',\n",
       " 'NA1_4262586266',\n",
       " 'NA1_4262565058',\n",
       " 'NA1_4262583613',\n",
       " 'NA1_4262561687',\n",
       " 'NA1_4262526292',\n",
       " 'NA1_4262503038',\n",
       " 'NA1_4262491059',\n",
       " 'NA1_4262438156',\n",
       " 'NA1_4262444816',\n",
       " 'NA1_4262442161',\n",
       " 'NA1_4262417846',\n",
       " 'NA1_4259321532',\n",
       " 'NA1_4250587663',\n",
       " 'NA1_4250574449',\n",
       " 'NA1_4250516204',\n",
       " 'NA1_4250505385',\n",
       " 'NA1_4250196492',\n",
       " 'NA1_4250166223',\n",
       " 'NA1_4250191453',\n",
       " 'NA1_4250161207',\n",
       " 'NA1_4250098287',\n",
       " 'NA1_4249815680',\n",
       " 'NA1_4249188233',\n",
       " 'NA1_4249144958',\n",
       " 'NA1_4249098164',\n",
       " 'NA1_4249074762',\n",
       " 'NA1_4248892626',\n",
       " 'NA1_4248789037',\n",
       " 'NA1_4248785439',\n",
       " 'NA1_4248687250',\n",
       " 'NA1_4248675793',\n",
       " 'NA1_4248700219',\n",
       " 'NA1_4248229667',\n",
       " 'NA1_4248218004',\n",
       " 'NA1_4248193746',\n",
       " 'NA1_4248210634',\n",
       " 'NA1_4248129009',\n",
       " 'NA1_4248146030',\n",
       " 'NA1_4248093389',\n",
       " 'NA1_4248039583',\n",
       " 'NA1_4247904315',\n",
       " 'NA1_4247788533',\n",
       " 'NA1_4247784380',\n",
       " 'NA1_4247413899',\n",
       " 'NA1_4247386714',\n",
       " 'NA1_4247281262',\n",
       " 'NA1_4247200200',\n",
       " 'NA1_4247049309',\n",
       " 'NA1_4247071391',\n",
       " 'NA1_4246646328',\n",
       " 'NA1_4246530421',\n",
       " 'NA1_4246141815',\n",
       " 'NA1_4246017355',\n",
       " 'NA1_4246012867',\n",
       " 'NA1_4245513740',\n",
       " 'NA1_4245510660',\n",
       " 'NA1_4245474961',\n",
       " 'NA1_4245418823',\n",
       " 'NA1_4245384286',\n",
       " 'NA1_4245084983',\n",
       " 'NA1_4245080382',\n",
       " 'NA1_4245074380',\n",
       " 'NA1_4244701145',\n",
       " 'NA1_4244621505',\n",
       " 'NA1_4244586195',\n",
       " 'NA1_4244590957',\n",
       " 'NA1_4244515603',\n",
       " 'NA1_4244512902',\n",
       " 'NA1_4244436852',\n",
       " 'NA1_4243752587',\n",
       " 'NA1_4243689542',\n",
       " 'NA1_4242663236',\n",
       " 'NA1_4240776932',\n",
       " 'NA1_4240457769',\n",
       " 'NA1_4240786957',\n",
       " 'NA1_4240996701',\n",
       " 'NA1_4240996658',\n",
       " 'NA1_4240916560']"
      ]
     },
     "execution_count": 2,
     "metadata": {},
     "output_type": "execute_result"
    }
   ],
   "source": [
    "lol_watcher.match.matchlist_by_puuid(region = 'americas', puuid='SDgF_qTaEjaa3CXnFkWkvehbW6UXDgvl9eetgo5yvBMW6gb78KpzDgtidNKTVzsxxno47S7HLAS1eg', count = 100)"
   ]
  },
  {
   "cell_type": "code",
   "execution_count": 6,
   "metadata": {},
   "outputs": [],
   "source": [
    "column_names = [\"TPWR\", \"TCWR\", \"TMWR\", \"JPWR\", \"JCWR\", \"JMWR\",\"MPWR\", \"MCWR\", \"MMWR\",\"BPWR\", \"BCWR\", \"BMWR\",\"SPWR\", \"SCWR\", \"SMWR\",]\n",
    "\n",
    "df = pd.DataFrame(columns = column_names)\n"
   ]
  },
  {
   "cell_type": "code",
   "execution_count": 7,
   "metadata": {},
   "outputs": [],
   "source": [
    "mypuuid = 'SDgF_qTaEjaa3CXnFkWkvehbW6UXDgvl9eetgo5yvBMW6gb78KpzDgtidNKTVzsxxno47S7HLAS1eg'\n",
    "propuuid = 'DgTqHW1HUKterDHpbBF_yqHLM3-TRATR8jLkHzNKEtzPdPkZi4v2TX3F2_K897gwhDSkHn-FL9FYug'\n",
    "def generatePlayerLists(puuid):\n",
    "    matchlist = lol_watcher.match.matchlist_by_puuid(region = 'americas', puuid = puuid, type = 'ranked')\n",
    "    allPlayerList = []\n",
    "    for q in range(20):\n",
    "        matchPlayerList = []\n",
    "        matchinfo = lol_watcher.match.by_id(region = 'americas', match_id = matchlist[q])\n",
    "        for i in range(10):\n",
    "            matchPlayerList.append(matchinfo['info']['participants'][i]['summonerName'])\n",
    "        allPlayerList.append(matchPlayerList)\n",
    "    return(allPlayerList)"
   ]
  },
  {
   "cell_type": "code",
   "execution_count": 8,
   "metadata": {},
   "outputs": [],
   "source": [
    "mypuuid = 'SDgF_qTaEjaa3CXnFkWkvehbW6UXDgvl9eetgo5yvBMW6gb78KpzDgtidNKTVzsxxno47S7HLAS1eg'\n",
    "def generateMatchList(puuid):\n",
    "    return (lol_watcher.match.matchlist_by_puuid(region = 'americas', puuid = puuid, type = 'ranked'))"
   ]
  },
  {
   "cell_type": "code",
   "execution_count": 10,
   "metadata": {},
   "outputs": [
    {
     "data": {
      "text/plain": [
       "['NA1_4247904315',\n",
       " 'NA1_4247788533',\n",
       " 'NA1_4247784380',\n",
       " 'NA1_4247413899',\n",
       " 'NA1_4247386714',\n",
       " 'NA1_4247281262',\n",
       " 'NA1_4247200200',\n",
       " 'NA1_4247049309',\n",
       " 'NA1_4246646328',\n",
       " 'NA1_4246530421',\n",
       " 'NA1_4246141815',\n",
       " 'NA1_4246017355',\n",
       " 'NA1_4246012867',\n",
       " 'NA1_4245513740',\n",
       " 'NA1_4245510660',\n",
       " 'NA1_4245474961',\n",
       " 'NA1_4245418823',\n",
       " 'NA1_4245384286',\n",
       " 'NA1_4245084983',\n",
       " 'NA1_4245080382']"
      ]
     },
     "execution_count": 10,
     "metadata": {},
     "output_type": "execute_result"
    }
   ],
   "source": [
    "generateMatchList(mypuuid)"
   ]
  },
  {
   "cell_type": "code",
   "execution_count": 11,
   "metadata": {},
   "outputs": [],
   "source": [
    "def generateChampionLists(matchid): \n",
    "    matchPlayerList = []\n",
    "    matchinfo = lol_watcher.match.by_id(region = 'americas', match_id = matchid)\n",
    "    for i in range(10):\n",
    "        matchPlayerList.append({matchinfo['info']['participants'][i]['teamPosition'] : matchinfo['info']['participants'][i]['championName']})\n",
    "    return(matchPlayerList)"
   ]
  },
  {
   "cell_type": "code",
   "execution_count": 18,
   "metadata": {},
   "outputs": [],
   "source": [
    "samplechamprole = generateChampionLists('NA1_4247386714')"
   ]
  },
  {
   "cell_type": "code",
   "execution_count": 14,
   "metadata": {},
   "outputs": [],
   "source": [
    "def splitTeams(playerList):\n",
    "    splitTeams = []\n",
    "    for i in generatePlayerLists(mypuuid):\n",
    "        matchdict = {\"blue\" : i[0:5], \"red\" : i[5:]}\n",
    "        splitTeams.append(matchdict)\n",
    "    return splitTeams"
   ]
  },
  {
   "cell_type": "code",
   "execution_count": 37,
   "metadata": {},
   "outputs": [],
   "source": [
    "def getWinRate(champ, role):\n",
    "    URL = 'https://u.gg/lol/champions/' + champ + '/build?role=' + role\n",
    "    page = requests.get(URL)\n",
    "    reg = '<div class=\"content-section champion-ranking-stats\">(.*?)%<\\/div><div class=\"label\">Win Rate<\\/div><\\/div><div class=\"overall-rank\">'\n",
    "    wr = re.findall(reg,page.text)\n",
    "    wr = re.findall('\\d*\\.?\\d*$', wr[0])\n",
    "    return(wr[0])\n"
   ]
  },
  {
   "cell_type": "code",
   "execution_count": 48,
   "metadata": {},
   "outputs": [
    {
     "ename": "SyntaxError",
     "evalue": "closing parenthesis '}' does not match opening parenthesis '(' (3762455993.py, line 3)",
     "output_type": "error",
     "traceback": [
      "\u001b[0;36m  File \u001b[0;32m\"/var/folders/sw/gsf2knms2977tk_sh9wq1p580000gn/T/ipykernel_13061/3762455993.py\"\u001b[0;36m, line \u001b[0;32m3\u001b[0m\n\u001b[0;31m    tempdict = {list(i.values())[0] : getWinRate(list(i.values())[0], list(i.keys()}\u001b[0m\n\u001b[0m                                                                                   ^\u001b[0m\n\u001b[0;31mSyntaxError\u001b[0m\u001b[0;31m:\u001b[0m closing parenthesis '}' does not match opening parenthesis '('\n"
     ]
    }
   ],
   "source": [
    "roleandwr = []\n",
    "for i in samplechamprole:\n",
    "    tempdict = {list(i.values())[0] : getWinRate(list(i.values())[0], list(i.keys())}\n",
    "print(roleandwr)"
   ]
  },
  {
   "cell_type": "code",
   "execution_count": null,
   "metadata": {},
   "outputs": [],
   "source": []
  },
  {
   "cell_type": "code",
   "execution_count": null,
   "metadata": {},
   "outputs": [],
   "source": []
  }
 ],
 "metadata": {
  "interpreter": {
   "hash": "827d28eff8753131e87be9d4be9576aa68dc625c562e2ec06e2a0d00ab6ebc9a"
  },
  "kernelspec": {
   "display_name": "Python 3.9.7 64-bit ('base': conda)",
   "name": "python3"
  },
  "language_info": {
   "codemirror_mode": {
    "name": "ipython",
    "version": 3
   },
   "file_extension": ".py",
   "mimetype": "text/x-python",
   "name": "python",
   "nbconvert_exporter": "python",
   "pygments_lexer": "ipython3",
   "version": "3.9.7"
  },
  "orig_nbformat": 4
 },
 "nbformat": 4,
 "nbformat_minor": 2
}
