{
 "cells": [
  {
   "cell_type": "code",
   "execution_count": 11,
   "metadata": {},
   "outputs": [],
   "source": [
    "from fastai.tabular.all import *\n",
    "from PIL import Image\n",
    "import gradio as gr"
   ]
  },
  {
   "cell_type": "code",
   "execution_count": 12,
   "metadata": {},
   "outputs": [],
   "source": [
    "def predictBlueWin(blueTop, blueJungle, blueMid, blueADC, blueSupport, redTop, redJungle, redMid, redADC, redSupport):\n",
    "    learn = load_learner('export.pkl')\n",
    "    column_names = [\"BlueTop\", \"BlueJungle\", \"BlueMid\", \"BlueADC\", \"BlueSupport\", \"RedTop\", \"RedJungle\", \"RedMid\", \"RedADC\", \"RedSupport\"]\n",
    "    df = pd.DataFrame(columns = column_names)\n",
    "    df.loc[0] = [blueTop, blueJungle, blueMid, blueADC, blueSupport, redTop, redJungle, redMid, redADC, redSupport]\n",
    "    return learn.predict(df.iloc[0])"
   ]
  },
  {
   "cell_type": "code",
   "execution_count": null,
   "metadata": {},
   "outputs": [],
   "source": []
  },
  {
   "cell_type": "code",
   "execution_count": 21,
   "metadata": {},
   "outputs": [
    {
     "name": "stderr",
     "output_type": "stream",
     "text": [
      "c:\\Users\\Wiggles\\miniconda3\\lib\\site-packages\\gradio\\deprecation.py:40: UserWarning: `enable_queue` is deprecated in `Interface()`, please use it within `launch()` instead.\n",
      "  warnings.warn(value)\n",
      "c:\\Users\\Wiggles\\miniconda3\\lib\\site-packages\\gradio\\utils.py:805: UserWarning: Expected 10 arguments for function <function greet at 0x000001B438DA7400>, received 1.\n",
      "  warnings.warn(\n",
      "c:\\Users\\Wiggles\\miniconda3\\lib\\site-packages\\gradio\\utils.py:809: UserWarning: Expected at least 10 arguments for function <function greet at 0x000001B438DA7400>, received 1.\n",
      "  warnings.warn(\n"
     ]
    },
    {
     "name": "stdout",
     "output_type": "stream",
     "text": [
      "Running on local URL:  http://127.0.0.1:7865\n",
      "\n",
      "To create a public link, set `share=True` in `launch()`.\n"
     ]
    },
    {
     "data": {
      "text/html": [
       "<div><iframe src=\"http://127.0.0.1:7865/\" width=\"100%\" height=\"500\" allow=\"autoplay; camera; microphone; clipboard-read; clipboard-write;\" frameborder=\"0\" allowfullscreen></iframe></div>"
      ],
      "text/plain": [
       "<IPython.core.display.HTML object>"
      ]
     },
     "metadata": {},
     "output_type": "display_data"
    },
    {
     "data": {
      "text/plain": []
     },
     "execution_count": 21,
     "metadata": {},
     "output_type": "execute_result"
    }
   ],
   "source": [
    "title = \"LOLDodgeTool\"\n",
    "description = \"A tool used to predict which team has the edge in a draft selection.\"\n",
    "enable_queue=True\n",
    "\n",
    "def greet(blueTop, blueJungle, blueMid, blueADC, blueSupport, redTop, redJungle, redMid, redADC, redSupport):\n",
    "    return predictBlueWin(blueTop, blueJungle, blueMid, blueADC, blueSupport, redTop, redJungle, redMid, redADC, redSupport)\n",
    "\n",
    "demo = gr.Interface(fn=greet, inputs=\"text\", outputs=\"text\", title=title, description=description, enable_queue=enable_queue)\n",
    "\n",
    "demo.launch()   "
   ]
  },
  {
   "cell_type": "code",
   "execution_count": null,
   "metadata": {},
   "outputs": [],
   "source": []
  }
 ],
 "metadata": {
  "kernelspec": {
   "display_name": "base",
   "language": "python",
   "name": "python3"
  },
  "language_info": {
   "codemirror_mode": {
    "name": "ipython",
    "version": 3
   },
   "file_extension": ".py",
   "mimetype": "text/x-python",
   "name": "python",
   "nbconvert_exporter": "python",
   "pygments_lexer": "ipython3",
   "version": "3.10.8"
  },
  "orig_nbformat": 4,
  "vscode": {
   "interpreter": {
    "hash": "417f056fefab257d34e28d2f10a1c4a315c9439c0daca59529e2a08c1c4e1952"
   }
  }
 },
 "nbformat": 4,
 "nbformat_minor": 2
}
